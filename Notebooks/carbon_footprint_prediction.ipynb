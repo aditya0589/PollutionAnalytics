{
 "cells": [
  {
   "cell_type": "markdown",
   "metadata": {},
   "source": [
    "# Carbon footprint Prediction"
   ]
  },
  {
   "cell_type": "code",
   "execution_count": 38,
   "metadata": {},
   "outputs": [],
   "source": [
    "import numpy as np\n",
    "import pandas as pd\n",
    "from sklearn.linear_model import LinearRegression\n",
    "from sklearn.tree import DecisionTreeRegressor\n",
    "from sklearn.ensemble import RandomForestRegressor\n",
    "from sklearn.preprocessing import StandardScaler\n",
    "from sklearn.model_selection import train_test_split, GridSearchCV\n",
    "from sklearn.metrics import mean_absolute_error,mean_squared_error,r2_score"
   ]
  },
  {
   "cell_type": "code",
   "execution_count": 17,
   "metadata": {},
   "outputs": [
    {
     "data": {
      "text/html": [
       "<div>\n",
       "<style scoped>\n",
       "    .dataframe tbody tr th:only-of-type {\n",
       "        vertical-align: middle;\n",
       "    }\n",
       "\n",
       "    .dataframe tbody tr th {\n",
       "        vertical-align: top;\n",
       "    }\n",
       "\n",
       "    .dataframe thead th {\n",
       "        text-align: right;\n",
       "    }\n",
       "</style>\n",
       "<table border=\"1\" class=\"dataframe\">\n",
       "  <thead>\n",
       "    <tr style=\"text-align: right;\">\n",
       "      <th></th>\n",
       "      <th>Year</th>\n",
       "      <th>State/UT</th>\n",
       "      <th>Sector</th>\n",
       "      <th>CO₂ Emissions (Million Tonnes)</th>\n",
       "      <th>CH₄ Emissions (Million Tonnes CO₂e)</th>\n",
       "      <th>N₂O Emissions (Million Tonnes CO₂e)</th>\n",
       "      <th>Energy Consumption (TWh)</th>\n",
       "      <th>Electricity Generation (TWh)</th>\n",
       "      <th>Fossil Fuel Consumption (MTOE)</th>\n",
       "      <th>Vehicle Count (Million Units)</th>\n",
       "      <th>Industrial Output (GDP Contribution in ₹ Cr)</th>\n",
       "      <th>Agricultural Land Usage (Million Hectares)</th>\n",
       "      <th>Deforestation Rate (sq. km per year)</th>\n",
       "      <th>Waste Generation (Million Tonnes)</th>\n",
       "      <th>Renewable Energy Share (%)</th>\n",
       "    </tr>\n",
       "  </thead>\n",
       "  <tbody>\n",
       "    <tr>\n",
       "      <th>0</th>\n",
       "      <td>2006</td>\n",
       "      <td>Gujarat</td>\n",
       "      <td>Energy</td>\n",
       "      <td>224.26</td>\n",
       "      <td>14.90</td>\n",
       "      <td>9.02</td>\n",
       "      <td>40.25</td>\n",
       "      <td>279.66</td>\n",
       "      <td>107.25</td>\n",
       "      <td>47.16</td>\n",
       "      <td>9144.38</td>\n",
       "      <td>48.15</td>\n",
       "      <td>107.42</td>\n",
       "      <td>47.20</td>\n",
       "      <td>6.88</td>\n",
       "    </tr>\n",
       "    <tr>\n",
       "      <th>1</th>\n",
       "      <td>2019</td>\n",
       "      <td>Jharkhand</td>\n",
       "      <td>Waste</td>\n",
       "      <td>132.17</td>\n",
       "      <td>4.20</td>\n",
       "      <td>6.28</td>\n",
       "      <td>152.16</td>\n",
       "      <td>188.59</td>\n",
       "      <td>218.93</td>\n",
       "      <td>35.95</td>\n",
       "      <td>36044.41</td>\n",
       "      <td>46.64</td>\n",
       "      <td>27.46</td>\n",
       "      <td>35.83</td>\n",
       "      <td>39.76</td>\n",
       "    </tr>\n",
       "    <tr>\n",
       "      <th>2</th>\n",
       "      <td>2014</td>\n",
       "      <td>Meghalaya</td>\n",
       "      <td>Transport</td>\n",
       "      <td>341.46</td>\n",
       "      <td>12.53</td>\n",
       "      <td>9.38</td>\n",
       "      <td>269.18</td>\n",
       "      <td>81.57</td>\n",
       "      <td>17.66</td>\n",
       "      <td>30.39</td>\n",
       "      <td>36520.51</td>\n",
       "      <td>42.70</td>\n",
       "      <td>31.41</td>\n",
       "      <td>27.45</td>\n",
       "      <td>18.72</td>\n",
       "    </tr>\n",
       "    <tr>\n",
       "      <th>3</th>\n",
       "      <td>2010</td>\n",
       "      <td>Kerala</td>\n",
       "      <td>Energy</td>\n",
       "      <td>71.69</td>\n",
       "      <td>47.87</td>\n",
       "      <td>13.96</td>\n",
       "      <td>373.22</td>\n",
       "      <td>174.96</td>\n",
       "      <td>14.73</td>\n",
       "      <td>8.88</td>\n",
       "      <td>71955.77</td>\n",
       "      <td>37.77</td>\n",
       "      <td>51.19</td>\n",
       "      <td>91.14</td>\n",
       "      <td>69.71</td>\n",
       "    </tr>\n",
       "    <tr>\n",
       "      <th>4</th>\n",
       "      <td>2007</td>\n",
       "      <td>Tripura</td>\n",
       "      <td>Agriculture</td>\n",
       "      <td>430.54</td>\n",
       "      <td>15.94</td>\n",
       "      <td>9.69</td>\n",
       "      <td>416.05</td>\n",
       "      <td>86.60</td>\n",
       "      <td>162.34</td>\n",
       "      <td>23.88</td>\n",
       "      <td>68045.72</td>\n",
       "      <td>27.01</td>\n",
       "      <td>58.79</td>\n",
       "      <td>61.55</td>\n",
       "      <td>59.24</td>\n",
       "    </tr>\n",
       "  </tbody>\n",
       "</table>\n",
       "</div>"
      ],
      "text/plain": [
       "   Year   State/UT       Sector  CO₂ Emissions (Million Tonnes)  \\\n",
       "0  2006    Gujarat       Energy                          224.26   \n",
       "1  2019  Jharkhand        Waste                          132.17   \n",
       "2  2014  Meghalaya    Transport                          341.46   \n",
       "3  2010     Kerala       Energy                           71.69   \n",
       "4  2007    Tripura  Agriculture                          430.54   \n",
       "\n",
       "   CH₄ Emissions (Million Tonnes CO₂e)  N₂O Emissions (Million Tonnes CO₂e)  \\\n",
       "0                                14.90                                 9.02   \n",
       "1                                 4.20                                 6.28   \n",
       "2                                12.53                                 9.38   \n",
       "3                                47.87                                13.96   \n",
       "4                                15.94                                 9.69   \n",
       "\n",
       "   Energy Consumption (TWh)  Electricity Generation (TWh)  \\\n",
       "0                     40.25                        279.66   \n",
       "1                    152.16                        188.59   \n",
       "2                    269.18                         81.57   \n",
       "3                    373.22                        174.96   \n",
       "4                    416.05                         86.60   \n",
       "\n",
       "   Fossil Fuel Consumption (MTOE)  Vehicle Count (Million Units)  \\\n",
       "0                          107.25                          47.16   \n",
       "1                          218.93                          35.95   \n",
       "2                           17.66                          30.39   \n",
       "3                           14.73                           8.88   \n",
       "4                          162.34                          23.88   \n",
       "\n",
       "   Industrial Output (GDP Contribution in ₹ Cr)  \\\n",
       "0                                       9144.38   \n",
       "1                                      36044.41   \n",
       "2                                      36520.51   \n",
       "3                                      71955.77   \n",
       "4                                      68045.72   \n",
       "\n",
       "   Agricultural Land Usage (Million Hectares)  \\\n",
       "0                                       48.15   \n",
       "1                                       46.64   \n",
       "2                                       42.70   \n",
       "3                                       37.77   \n",
       "4                                       27.01   \n",
       "\n",
       "   Deforestation Rate (sq. km per year)  Waste Generation (Million Tonnes)  \\\n",
       "0                                107.42                              47.20   \n",
       "1                                 27.46                              35.83   \n",
       "2                                 31.41                              27.45   \n",
       "3                                 51.19                              91.14   \n",
       "4                                 58.79                              61.55   \n",
       "\n",
       "   Renewable Energy Share (%)  \n",
       "0                        6.88  \n",
       "1                       39.76  \n",
       "2                       18.72  \n",
       "3                       69.71  \n",
       "4                       59.24  "
      ]
     },
     "execution_count": 17,
     "metadata": {},
     "output_type": "execute_result"
    }
   ],
   "source": [
    "df = pd.read_csv('data/carbon_footprint_india.csv')\n",
    "df.head()"
   ]
  },
  {
   "cell_type": "code",
   "execution_count": 18,
   "metadata": {},
   "outputs": [],
   "source": [
    "GWP_CH4 = 28  # Methane GWP\n",
    "GWP_N2O = 265  # Nitrous Oxide GWP\n",
    "\n",
    "# Calculate total carbon footprint\n",
    "df[\"Carbon Footprint (Million Tonnes CO₂e)\"] = (\n",
    "    df[\"CO₂ Emissions (Million Tonnes)\"] +\n",
    "    (df[\"CH₄ Emissions (Million Tonnes CO₂e)\"] * GWP_CH4) +\n",
    "    (df[\"N₂O Emissions (Million Tonnes CO₂e)\"] * GWP_N2O)\n",
    ")"
   ]
  },
  {
   "cell_type": "code",
   "execution_count": 19,
   "metadata": {},
   "outputs": [
    {
     "data": {
      "text/html": [
       "<div>\n",
       "<style scoped>\n",
       "    .dataframe tbody tr th:only-of-type {\n",
       "        vertical-align: middle;\n",
       "    }\n",
       "\n",
       "    .dataframe tbody tr th {\n",
       "        vertical-align: top;\n",
       "    }\n",
       "\n",
       "    .dataframe thead th {\n",
       "        text-align: right;\n",
       "    }\n",
       "</style>\n",
       "<table border=\"1\" class=\"dataframe\">\n",
       "  <thead>\n",
       "    <tr style=\"text-align: right;\">\n",
       "      <th></th>\n",
       "      <th>Year</th>\n",
       "      <th>State/UT</th>\n",
       "      <th>Sector</th>\n",
       "      <th>CO₂ Emissions (Million Tonnes)</th>\n",
       "      <th>CH₄ Emissions (Million Tonnes CO₂e)</th>\n",
       "      <th>N₂O Emissions (Million Tonnes CO₂e)</th>\n",
       "      <th>Energy Consumption (TWh)</th>\n",
       "      <th>Electricity Generation (TWh)</th>\n",
       "      <th>Fossil Fuel Consumption (MTOE)</th>\n",
       "      <th>Vehicle Count (Million Units)</th>\n",
       "      <th>Industrial Output (GDP Contribution in ₹ Cr)</th>\n",
       "      <th>Agricultural Land Usage (Million Hectares)</th>\n",
       "      <th>Deforestation Rate (sq. km per year)</th>\n",
       "      <th>Waste Generation (Million Tonnes)</th>\n",
       "      <th>Renewable Energy Share (%)</th>\n",
       "      <th>Carbon Footprint (Million Tonnes CO₂e)</th>\n",
       "    </tr>\n",
       "  </thead>\n",
       "  <tbody>\n",
       "    <tr>\n",
       "      <th>0</th>\n",
       "      <td>2006</td>\n",
       "      <td>Gujarat</td>\n",
       "      <td>Energy</td>\n",
       "      <td>224.26</td>\n",
       "      <td>14.90</td>\n",
       "      <td>9.02</td>\n",
       "      <td>40.25</td>\n",
       "      <td>279.66</td>\n",
       "      <td>107.25</td>\n",
       "      <td>47.16</td>\n",
       "      <td>9144.38</td>\n",
       "      <td>48.15</td>\n",
       "      <td>107.42</td>\n",
       "      <td>47.20</td>\n",
       "      <td>6.88</td>\n",
       "      <td>3031.76</td>\n",
       "    </tr>\n",
       "    <tr>\n",
       "      <th>1</th>\n",
       "      <td>2019</td>\n",
       "      <td>Jharkhand</td>\n",
       "      <td>Waste</td>\n",
       "      <td>132.17</td>\n",
       "      <td>4.20</td>\n",
       "      <td>6.28</td>\n",
       "      <td>152.16</td>\n",
       "      <td>188.59</td>\n",
       "      <td>218.93</td>\n",
       "      <td>35.95</td>\n",
       "      <td>36044.41</td>\n",
       "      <td>46.64</td>\n",
       "      <td>27.46</td>\n",
       "      <td>35.83</td>\n",
       "      <td>39.76</td>\n",
       "      <td>1913.97</td>\n",
       "    </tr>\n",
       "    <tr>\n",
       "      <th>2</th>\n",
       "      <td>2014</td>\n",
       "      <td>Meghalaya</td>\n",
       "      <td>Transport</td>\n",
       "      <td>341.46</td>\n",
       "      <td>12.53</td>\n",
       "      <td>9.38</td>\n",
       "      <td>269.18</td>\n",
       "      <td>81.57</td>\n",
       "      <td>17.66</td>\n",
       "      <td>30.39</td>\n",
       "      <td>36520.51</td>\n",
       "      <td>42.70</td>\n",
       "      <td>31.41</td>\n",
       "      <td>27.45</td>\n",
       "      <td>18.72</td>\n",
       "      <td>3178.00</td>\n",
       "    </tr>\n",
       "    <tr>\n",
       "      <th>3</th>\n",
       "      <td>2010</td>\n",
       "      <td>Kerala</td>\n",
       "      <td>Energy</td>\n",
       "      <td>71.69</td>\n",
       "      <td>47.87</td>\n",
       "      <td>13.96</td>\n",
       "      <td>373.22</td>\n",
       "      <td>174.96</td>\n",
       "      <td>14.73</td>\n",
       "      <td>8.88</td>\n",
       "      <td>71955.77</td>\n",
       "      <td>37.77</td>\n",
       "      <td>51.19</td>\n",
       "      <td>91.14</td>\n",
       "      <td>69.71</td>\n",
       "      <td>5111.45</td>\n",
       "    </tr>\n",
       "    <tr>\n",
       "      <th>4</th>\n",
       "      <td>2007</td>\n",
       "      <td>Tripura</td>\n",
       "      <td>Agriculture</td>\n",
       "      <td>430.54</td>\n",
       "      <td>15.94</td>\n",
       "      <td>9.69</td>\n",
       "      <td>416.05</td>\n",
       "      <td>86.60</td>\n",
       "      <td>162.34</td>\n",
       "      <td>23.88</td>\n",
       "      <td>68045.72</td>\n",
       "      <td>27.01</td>\n",
       "      <td>58.79</td>\n",
       "      <td>61.55</td>\n",
       "      <td>59.24</td>\n",
       "      <td>3444.71</td>\n",
       "    </tr>\n",
       "  </tbody>\n",
       "</table>\n",
       "</div>"
      ],
      "text/plain": [
       "   Year   State/UT       Sector  CO₂ Emissions (Million Tonnes)  \\\n",
       "0  2006    Gujarat       Energy                          224.26   \n",
       "1  2019  Jharkhand        Waste                          132.17   \n",
       "2  2014  Meghalaya    Transport                          341.46   \n",
       "3  2010     Kerala       Energy                           71.69   \n",
       "4  2007    Tripura  Agriculture                          430.54   \n",
       "\n",
       "   CH₄ Emissions (Million Tonnes CO₂e)  N₂O Emissions (Million Tonnes CO₂e)  \\\n",
       "0                                14.90                                 9.02   \n",
       "1                                 4.20                                 6.28   \n",
       "2                                12.53                                 9.38   \n",
       "3                                47.87                                13.96   \n",
       "4                                15.94                                 9.69   \n",
       "\n",
       "   Energy Consumption (TWh)  Electricity Generation (TWh)  \\\n",
       "0                     40.25                        279.66   \n",
       "1                    152.16                        188.59   \n",
       "2                    269.18                         81.57   \n",
       "3                    373.22                        174.96   \n",
       "4                    416.05                         86.60   \n",
       "\n",
       "   Fossil Fuel Consumption (MTOE)  Vehicle Count (Million Units)  \\\n",
       "0                          107.25                          47.16   \n",
       "1                          218.93                          35.95   \n",
       "2                           17.66                          30.39   \n",
       "3                           14.73                           8.88   \n",
       "4                          162.34                          23.88   \n",
       "\n",
       "   Industrial Output (GDP Contribution in ₹ Cr)  \\\n",
       "0                                       9144.38   \n",
       "1                                      36044.41   \n",
       "2                                      36520.51   \n",
       "3                                      71955.77   \n",
       "4                                      68045.72   \n",
       "\n",
       "   Agricultural Land Usage (Million Hectares)  \\\n",
       "0                                       48.15   \n",
       "1                                       46.64   \n",
       "2                                       42.70   \n",
       "3                                       37.77   \n",
       "4                                       27.01   \n",
       "\n",
       "   Deforestation Rate (sq. km per year)  Waste Generation (Million Tonnes)  \\\n",
       "0                                107.42                              47.20   \n",
       "1                                 27.46                              35.83   \n",
       "2                                 31.41                              27.45   \n",
       "3                                 51.19                              91.14   \n",
       "4                                 58.79                              61.55   \n",
       "\n",
       "   Renewable Energy Share (%)  Carbon Footprint (Million Tonnes CO₂e)  \n",
       "0                        6.88                                 3031.76  \n",
       "1                       39.76                                 1913.97  \n",
       "2                       18.72                                 3178.00  \n",
       "3                       69.71                                 5111.45  \n",
       "4                       59.24                                 3444.71  "
      ]
     },
     "execution_count": 19,
     "metadata": {},
     "output_type": "execute_result"
    }
   ],
   "source": [
    "df.head()"
   ]
  },
  {
   "cell_type": "code",
   "execution_count": 20,
   "metadata": {},
   "outputs": [],
   "source": [
    "df.drop(columns=['Year'], inplace=True)"
   ]
  },
  {
   "cell_type": "code",
   "execution_count": 21,
   "metadata": {},
   "outputs": [],
   "source": [
    "df = pd.get_dummies(df, columns=['Sector'], drop_first=True)"
   ]
  },
  {
   "cell_type": "code",
   "execution_count": 22,
   "metadata": {},
   "outputs": [],
   "source": [
    "df = pd.get_dummies(df, columns=['State/UT'], drop_first=True)"
   ]
  },
  {
   "cell_type": "code",
   "execution_count": 23,
   "metadata": {},
   "outputs": [
    {
     "data": {
      "text/html": [
       "<div>\n",
       "<style scoped>\n",
       "    .dataframe tbody tr th:only-of-type {\n",
       "        vertical-align: middle;\n",
       "    }\n",
       "\n",
       "    .dataframe tbody tr th {\n",
       "        vertical-align: top;\n",
       "    }\n",
       "\n",
       "    .dataframe thead th {\n",
       "        text-align: right;\n",
       "    }\n",
       "</style>\n",
       "<table border=\"1\" class=\"dataframe\">\n",
       "  <thead>\n",
       "    <tr style=\"text-align: right;\">\n",
       "      <th></th>\n",
       "      <th>CO₂ Emissions (Million Tonnes)</th>\n",
       "      <th>CH₄ Emissions (Million Tonnes CO₂e)</th>\n",
       "      <th>N₂O Emissions (Million Tonnes CO₂e)</th>\n",
       "      <th>Energy Consumption (TWh)</th>\n",
       "      <th>Electricity Generation (TWh)</th>\n",
       "      <th>Fossil Fuel Consumption (MTOE)</th>\n",
       "      <th>Vehicle Count (Million Units)</th>\n",
       "      <th>Industrial Output (GDP Contribution in ₹ Cr)</th>\n",
       "      <th>Agricultural Land Usage (Million Hectares)</th>\n",
       "      <th>Deforestation Rate (sq. km per year)</th>\n",
       "      <th>...</th>\n",
       "      <th>State/UT_Puducherry</th>\n",
       "      <th>State/UT_Punjab</th>\n",
       "      <th>State/UT_Rajasthan</th>\n",
       "      <th>State/UT_Sikkim</th>\n",
       "      <th>State/UT_Tamil Nadu</th>\n",
       "      <th>State/UT_Telangana</th>\n",
       "      <th>State/UT_Tripura</th>\n",
       "      <th>State/UT_Uttar Pradesh</th>\n",
       "      <th>State/UT_Uttarakhand</th>\n",
       "      <th>State/UT_West Bengal</th>\n",
       "    </tr>\n",
       "  </thead>\n",
       "  <tbody>\n",
       "    <tr>\n",
       "      <th>0</th>\n",
       "      <td>224.26</td>\n",
       "      <td>14.90</td>\n",
       "      <td>9.02</td>\n",
       "      <td>40.25</td>\n",
       "      <td>279.66</td>\n",
       "      <td>107.25</td>\n",
       "      <td>47.16</td>\n",
       "      <td>9144.38</td>\n",
       "      <td>48.15</td>\n",
       "      <td>107.42</td>\n",
       "      <td>...</td>\n",
       "      <td>0</td>\n",
       "      <td>0</td>\n",
       "      <td>0</td>\n",
       "      <td>0</td>\n",
       "      <td>0</td>\n",
       "      <td>0</td>\n",
       "      <td>0</td>\n",
       "      <td>0</td>\n",
       "      <td>0</td>\n",
       "      <td>0</td>\n",
       "    </tr>\n",
       "    <tr>\n",
       "      <th>1</th>\n",
       "      <td>132.17</td>\n",
       "      <td>4.20</td>\n",
       "      <td>6.28</td>\n",
       "      <td>152.16</td>\n",
       "      <td>188.59</td>\n",
       "      <td>218.93</td>\n",
       "      <td>35.95</td>\n",
       "      <td>36044.41</td>\n",
       "      <td>46.64</td>\n",
       "      <td>27.46</td>\n",
       "      <td>...</td>\n",
       "      <td>0</td>\n",
       "      <td>0</td>\n",
       "      <td>0</td>\n",
       "      <td>0</td>\n",
       "      <td>0</td>\n",
       "      <td>0</td>\n",
       "      <td>0</td>\n",
       "      <td>0</td>\n",
       "      <td>0</td>\n",
       "      <td>0</td>\n",
       "    </tr>\n",
       "    <tr>\n",
       "      <th>2</th>\n",
       "      <td>341.46</td>\n",
       "      <td>12.53</td>\n",
       "      <td>9.38</td>\n",
       "      <td>269.18</td>\n",
       "      <td>81.57</td>\n",
       "      <td>17.66</td>\n",
       "      <td>30.39</td>\n",
       "      <td>36520.51</td>\n",
       "      <td>42.70</td>\n",
       "      <td>31.41</td>\n",
       "      <td>...</td>\n",
       "      <td>0</td>\n",
       "      <td>0</td>\n",
       "      <td>0</td>\n",
       "      <td>0</td>\n",
       "      <td>0</td>\n",
       "      <td>0</td>\n",
       "      <td>0</td>\n",
       "      <td>0</td>\n",
       "      <td>0</td>\n",
       "      <td>0</td>\n",
       "    </tr>\n",
       "    <tr>\n",
       "      <th>3</th>\n",
       "      <td>71.69</td>\n",
       "      <td>47.87</td>\n",
       "      <td>13.96</td>\n",
       "      <td>373.22</td>\n",
       "      <td>174.96</td>\n",
       "      <td>14.73</td>\n",
       "      <td>8.88</td>\n",
       "      <td>71955.77</td>\n",
       "      <td>37.77</td>\n",
       "      <td>51.19</td>\n",
       "      <td>...</td>\n",
       "      <td>0</td>\n",
       "      <td>0</td>\n",
       "      <td>0</td>\n",
       "      <td>0</td>\n",
       "      <td>0</td>\n",
       "      <td>0</td>\n",
       "      <td>0</td>\n",
       "      <td>0</td>\n",
       "      <td>0</td>\n",
       "      <td>0</td>\n",
       "    </tr>\n",
       "    <tr>\n",
       "      <th>4</th>\n",
       "      <td>430.54</td>\n",
       "      <td>15.94</td>\n",
       "      <td>9.69</td>\n",
       "      <td>416.05</td>\n",
       "      <td>86.60</td>\n",
       "      <td>162.34</td>\n",
       "      <td>23.88</td>\n",
       "      <td>68045.72</td>\n",
       "      <td>27.01</td>\n",
       "      <td>58.79</td>\n",
       "      <td>...</td>\n",
       "      <td>0</td>\n",
       "      <td>0</td>\n",
       "      <td>0</td>\n",
       "      <td>0</td>\n",
       "      <td>0</td>\n",
       "      <td>0</td>\n",
       "      <td>1</td>\n",
       "      <td>0</td>\n",
       "      <td>0</td>\n",
       "      <td>0</td>\n",
       "    </tr>\n",
       "  </tbody>\n",
       "</table>\n",
       "<p>5 rows × 46 columns</p>\n",
       "</div>"
      ],
      "text/plain": [
       "   CO₂ Emissions (Million Tonnes)  CH₄ Emissions (Million Tonnes CO₂e)  \\\n",
       "0                          224.26                                14.90   \n",
       "1                          132.17                                 4.20   \n",
       "2                          341.46                                12.53   \n",
       "3                           71.69                                47.87   \n",
       "4                          430.54                                15.94   \n",
       "\n",
       "   N₂O Emissions (Million Tonnes CO₂e)  Energy Consumption (TWh)  \\\n",
       "0                                 9.02                     40.25   \n",
       "1                                 6.28                    152.16   \n",
       "2                                 9.38                    269.18   \n",
       "3                                13.96                    373.22   \n",
       "4                                 9.69                    416.05   \n",
       "\n",
       "   Electricity Generation (TWh)  Fossil Fuel Consumption (MTOE)  \\\n",
       "0                        279.66                          107.25   \n",
       "1                        188.59                          218.93   \n",
       "2                         81.57                           17.66   \n",
       "3                        174.96                           14.73   \n",
       "4                         86.60                          162.34   \n",
       "\n",
       "   Vehicle Count (Million Units)  \\\n",
       "0                          47.16   \n",
       "1                          35.95   \n",
       "2                          30.39   \n",
       "3                           8.88   \n",
       "4                          23.88   \n",
       "\n",
       "   Industrial Output (GDP Contribution in ₹ Cr)  \\\n",
       "0                                       9144.38   \n",
       "1                                      36044.41   \n",
       "2                                      36520.51   \n",
       "3                                      71955.77   \n",
       "4                                      68045.72   \n",
       "\n",
       "   Agricultural Land Usage (Million Hectares)  \\\n",
       "0                                       48.15   \n",
       "1                                       46.64   \n",
       "2                                       42.70   \n",
       "3                                       37.77   \n",
       "4                                       27.01   \n",
       "\n",
       "   Deforestation Rate (sq. km per year)  ...  State/UT_Puducherry  \\\n",
       "0                                107.42  ...                    0   \n",
       "1                                 27.46  ...                    0   \n",
       "2                                 31.41  ...                    0   \n",
       "3                                 51.19  ...                    0   \n",
       "4                                 58.79  ...                    0   \n",
       "\n",
       "   State/UT_Punjab  State/UT_Rajasthan  State/UT_Sikkim  State/UT_Tamil Nadu  \\\n",
       "0                0                   0                0                    0   \n",
       "1                0                   0                0                    0   \n",
       "2                0                   0                0                    0   \n",
       "3                0                   0                0                    0   \n",
       "4                0                   0                0                    0   \n",
       "\n",
       "   State/UT_Telangana  State/UT_Tripura  State/UT_Uttar Pradesh  \\\n",
       "0                   0                 0                       0   \n",
       "1                   0                 0                       0   \n",
       "2                   0                 0                       0   \n",
       "3                   0                 0                       0   \n",
       "4                   0                 1                       0   \n",
       "\n",
       "   State/UT_Uttarakhand  State/UT_West Bengal  \n",
       "0                     0                     0  \n",
       "1                     0                     0  \n",
       "2                     0                     0  \n",
       "3                     0                     0  \n",
       "4                     0                     0  \n",
       "\n",
       "[5 rows x 46 columns]"
      ]
     },
     "execution_count": 23,
     "metadata": {},
     "output_type": "execute_result"
    }
   ],
   "source": [
    "df.head()"
   ]
  },
  {
   "cell_type": "code",
   "execution_count": 24,
   "metadata": {},
   "outputs": [],
   "source": [
    "X = df.drop(columns=['Carbon Footprint (Million Tonnes CO₂e)'])\n",
    "Y = df['Carbon Footprint (Million Tonnes CO₂e)']"
   ]
  },
  {
   "cell_type": "code",
   "execution_count": 25,
   "metadata": {},
   "outputs": [],
   "source": [
    "X_train, X_test, Y_train, Y_test = train_test_split(X, Y, test_size=0.2, random_state=42)"
   ]
  },
  {
   "cell_type": "code",
   "execution_count": 27,
   "metadata": {},
   "outputs": [],
   "source": [
    "scaler = StandardScaler()\n",
    "X_train_scaled = scaler.fit_transform(X_train)\n",
    "X_test_scaled = scaler.transform(X_test)"
   ]
  },
  {
   "cell_type": "code",
   "execution_count": 33,
   "metadata": {},
   "outputs": [
    {
     "data": {
      "text/plain": [
       "LinearRegression()"
      ]
     },
     "execution_count": 33,
     "metadata": {},
     "output_type": "execute_result"
    }
   ],
   "source": [
    "linear_model = LinearRegression()\n",
    "linear_model.fit(X_train_scaled, Y_train)"
   ]
  },
  {
   "cell_type": "code",
   "execution_count": 34,
   "metadata": {},
   "outputs": [
    {
     "data": {
      "text/plain": [
       "DecisionTreeRegressor(random_state=42)"
      ]
     },
     "execution_count": 34,
     "metadata": {},
     "output_type": "execute_result"
    }
   ],
   "source": [
    "tree_model = DecisionTreeRegressor(random_state=42)\n",
    "tree_model.fit(X_train_scaled, Y_train)"
   ]
  },
  {
   "cell_type": "code",
   "execution_count": 35,
   "metadata": {},
   "outputs": [
    {
     "data": {
      "text/plain": [
       "RandomForestRegressor(random_state=42)"
      ]
     },
     "execution_count": 35,
     "metadata": {},
     "output_type": "execute_result"
    }
   ],
   "source": [
    "rf_model = RandomForestRegressor(n_estimators=100, random_state=42)\n",
    "rf_model.fit(X_train_scaled, Y_train)"
   ]
  },
  {
   "cell_type": "code",
   "execution_count": 37,
   "metadata": {},
   "outputs": [
    {
     "data": {
      "text/plain": [
       "array([5051.33, 3530.23, 4850.84, ..., 5981.59, 2636.33, 6164.88])"
      ]
     },
     "execution_count": 37,
     "metadata": {},
     "output_type": "execute_result"
    }
   ],
   "source": [
    "Y_pred = linear_model.predict(X_test_scaled)\n",
    "Y_pred"
   ]
  },
  {
   "cell_type": "code",
   "execution_count": 39,
   "metadata": {},
   "outputs": [],
   "source": [
    "mae = mean_absolute_error(Y_test, Y_pred)\n",
    "mse = mean_squared_error(Y_test, Y_pred)\n",
    "r2 = r2_score(Y_test, Y_pred)"
   ]
  },
  {
   "cell_type": "code",
   "execution_count": 40,
   "metadata": {},
   "outputs": [
    {
     "name": "stdout",
     "output_type": "stream",
     "text": [
      "2.7732767193811012e-12, 1.1888663047441193e-23, 1.0\n"
     ]
    }
   ],
   "source": [
    "print(f\"{mae}, {mse}, {r2}\")"
   ]
  },
  {
   "cell_type": "code",
   "execution_count": 41,
   "metadata": {},
   "outputs": [
    {
     "data": {
      "text/plain": [
       "array([5116.22, 3602.14, 4972.44, ..., 6017.98, 2672.67, 6208.79])"
      ]
     },
     "execution_count": 41,
     "metadata": {},
     "output_type": "execute_result"
    }
   ],
   "source": [
    "Y_pred = tree_model.predict(X_test_scaled)\n",
    "Y_pred"
   ]
  },
  {
   "cell_type": "code",
   "execution_count": 42,
   "metadata": {},
   "outputs": [],
   "source": [
    "mae = mean_absolute_error(Y_test, Y_pred)\n",
    "mse = mean_squared_error(Y_test, Y_pred)\n",
    "r2 = r2_score(Y_test, Y_pred)"
   ]
  },
  {
   "cell_type": "code",
   "execution_count": 43,
   "metadata": {},
   "outputs": [
    {
     "name": "stdout",
     "output_type": "stream",
     "text": [
      "82.5738, 10840.0223363, 0.9955045329961458\n"
     ]
    }
   ],
   "source": [
    "print(f\"{mae}, {mse}, {r2}\")"
   ]
  },
  {
   "cell_type": "code",
   "execution_count": 44,
   "metadata": {},
   "outputs": [
    {
     "data": {
      "text/plain": [
       "array([5036.0842, 3495.7596, 4800.9821, ..., 5977.0251, 2643.6432,\n",
       "       6187.766 ])"
      ]
     },
     "execution_count": 44,
     "metadata": {},
     "output_type": "execute_result"
    }
   ],
   "source": [
    "Y_pred = rf_model.predict(X_test_scaled)\n",
    "Y_pred"
   ]
  },
  {
   "cell_type": "code",
   "execution_count": 45,
   "metadata": {},
   "outputs": [],
   "source": [
    "mae = mean_absolute_error(Y_test, Y_pred)\n",
    "mse = mean_squared_error(Y_test, Y_pred)\n",
    "r2 = r2_score(Y_test, Y_pred)"
   ]
  },
  {
   "cell_type": "code",
   "execution_count": 46,
   "metadata": {},
   "outputs": [
    {
     "name": "stdout",
     "output_type": "stream",
     "text": [
      "39.487226199999974, 2520.7744731802, 0.998954609306441\n"
     ]
    }
   ],
   "source": [
    "print(f\"{mae}, {mse}, {r2}\")"
   ]
  }
 ],
 "metadata": {
  "kernelspec": {
   "display_name": "Python 3",
   "language": "python",
   "name": "python3"
  },
  "language_info": {
   "codemirror_mode": {
    "name": "ipython",
    "version": 3
   },
   "file_extension": ".py",
   "mimetype": "text/x-python",
   "name": "python",
   "nbconvert_exporter": "python",
   "pygments_lexer": "ipython3",
   "version": "3.7.0"
  }
 },
 "nbformat": 4,
 "nbformat_minor": 2
}
